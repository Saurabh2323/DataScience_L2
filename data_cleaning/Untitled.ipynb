{
 "cells": [
  {
   "cell_type": "code",
   "execution_count": 7,
   "metadata": {
    "ExecuteTime": {
     "end_time": "2020-07-19T09:00:13.937414Z",
     "start_time": "2020-07-19T09:00:13.932415Z"
    }
   },
   "outputs": [],
   "source": [
    "import pandas as pd\n",
    "import numpy as np"
   ]
  },
  {
   "cell_type": "code",
   "execution_count": 8,
   "metadata": {
    "ExecuteTime": {
     "end_time": "2020-07-19T09:00:14.661877Z",
     "start_time": "2020-07-19T09:00:14.620902Z"
    }
   },
   "outputs": [
    {
     "data": {
      "text/html": [
       "<div>\n",
       "<style scoped>\n",
       "    .dataframe tbody tr th:only-of-type {\n",
       "        vertical-align: middle;\n",
       "    }\n",
       "\n",
       "    .dataframe tbody tr th {\n",
       "        vertical-align: top;\n",
       "    }\n",
       "\n",
       "    .dataframe thead th {\n",
       "        text-align: right;\n",
       "    }\n",
       "</style>\n",
       "<table border=\"1\" class=\"dataframe\">\n",
       "  <thead>\n",
       "    <tr style=\"text-align: right;\">\n",
       "      <th></th>\n",
       "      <th>0</th>\n",
       "      <th>1</th>\n",
       "      <th>2</th>\n",
       "      <th>3</th>\n",
       "    </tr>\n",
       "  </thead>\n",
       "  <tbody>\n",
       "    <tr>\n",
       "      <td>count</td>\n",
       "      <td>1000.000000</td>\n",
       "      <td>1000.000000</td>\n",
       "      <td>1000.000000</td>\n",
       "      <td>1000.000000</td>\n",
       "    </tr>\n",
       "    <tr>\n",
       "      <td>mean</td>\n",
       "      <td>-0.040896</td>\n",
       "      <td>0.025979</td>\n",
       "      <td>-0.018965</td>\n",
       "      <td>-0.027054</td>\n",
       "    </tr>\n",
       "    <tr>\n",
       "      <td>std</td>\n",
       "      <td>0.991511</td>\n",
       "      <td>0.967616</td>\n",
       "      <td>1.045229</td>\n",
       "      <td>1.009720</td>\n",
       "    </tr>\n",
       "    <tr>\n",
       "      <td>min</td>\n",
       "      <td>-3.508793</td>\n",
       "      <td>-2.930343</td>\n",
       "      <td>-2.955634</td>\n",
       "      <td>-2.918775</td>\n",
       "    </tr>\n",
       "    <tr>\n",
       "      <td>25%</td>\n",
       "      <td>-0.703916</td>\n",
       "      <td>-0.633723</td>\n",
       "      <td>-0.724893</td>\n",
       "      <td>-0.698478</td>\n",
       "    </tr>\n",
       "    <tr>\n",
       "      <td>50%</td>\n",
       "      <td>-0.020014</td>\n",
       "      <td>-0.014974</td>\n",
       "      <td>-0.025513</td>\n",
       "      <td>-0.064177</td>\n",
       "    </tr>\n",
       "    <tr>\n",
       "      <td>75%</td>\n",
       "      <td>0.647959</td>\n",
       "      <td>0.692852</td>\n",
       "      <td>0.685659</td>\n",
       "      <td>0.645576</td>\n",
       "    </tr>\n",
       "    <tr>\n",
       "      <td>max</td>\n",
       "      <td>3.038222</td>\n",
       "      <td>4.095484</td>\n",
       "      <td>3.170009</td>\n",
       "      <td>3.857522</td>\n",
       "    </tr>\n",
       "  </tbody>\n",
       "</table>\n",
       "</div>"
      ],
      "text/plain": [
       "                 0            1            2            3\n",
       "count  1000.000000  1000.000000  1000.000000  1000.000000\n",
       "mean     -0.040896     0.025979    -0.018965    -0.027054\n",
       "std       0.991511     0.967616     1.045229     1.009720\n",
       "min      -3.508793    -2.930343    -2.955634    -2.918775\n",
       "25%      -0.703916    -0.633723    -0.724893    -0.698478\n",
       "50%      -0.020014    -0.014974    -0.025513    -0.064177\n",
       "75%       0.647959     0.692852     0.685659     0.645576\n",
       "max       3.038222     4.095484     3.170009     3.857522"
      ]
     },
     "execution_count": 8,
     "metadata": {},
     "output_type": "execute_result"
    }
   ],
   "source": [
    "data = pd.DataFrame(np.random.randn(1000, 4))\n",
    "data.describe()"
   ]
  },
  {
   "cell_type": "code",
   "execution_count": 9,
   "metadata": {
    "ExecuteTime": {
     "end_time": "2020-07-19T09:00:15.355439Z",
     "start_time": "2020-07-19T09:00:15.343446Z"
    }
   },
   "outputs": [
    {
     "data": {
      "text/plain": [
       "423    3.078815\n",
       "607    3.049757\n",
       "722    3.170009\n",
       "738    3.024025\n",
       "Name: 2, dtype: float64"
      ]
     },
     "execution_count": 9,
     "metadata": {},
     "output_type": "execute_result"
    }
   ],
   "source": [
    "col = data[2]\n",
    "col[np.abs(col) > 3]"
   ]
  },
  {
   "cell_type": "code",
   "execution_count": 10,
   "metadata": {
    "ExecuteTime": {
     "end_time": "2020-07-19T09:00:32.668136Z",
     "start_time": "2020-07-19T09:00:32.630153Z"
    }
   },
   "outputs": [
    {
     "data": {
      "text/html": [
       "<div>\n",
       "<style scoped>\n",
       "    .dataframe tbody tr th:only-of-type {\n",
       "        vertical-align: middle;\n",
       "    }\n",
       "\n",
       "    .dataframe tbody tr th {\n",
       "        vertical-align: top;\n",
       "    }\n",
       "\n",
       "    .dataframe thead th {\n",
       "        text-align: right;\n",
       "    }\n",
       "</style>\n",
       "<table border=\"1\" class=\"dataframe\">\n",
       "  <thead>\n",
       "    <tr style=\"text-align: right;\">\n",
       "      <th></th>\n",
       "      <th>0</th>\n",
       "      <th>1</th>\n",
       "      <th>2</th>\n",
       "      <th>3</th>\n",
       "    </tr>\n",
       "  </thead>\n",
       "  <tbody>\n",
       "    <tr>\n",
       "      <td>100</td>\n",
       "      <td>0.310629</td>\n",
       "      <td>4.095484</td>\n",
       "      <td>-0.080488</td>\n",
       "      <td>-0.848625</td>\n",
       "    </tr>\n",
       "    <tr>\n",
       "      <td>163</td>\n",
       "      <td>3.038222</td>\n",
       "      <td>0.295567</td>\n",
       "      <td>0.021546</td>\n",
       "      <td>-0.161107</td>\n",
       "    </tr>\n",
       "    <tr>\n",
       "      <td>174</td>\n",
       "      <td>-1.915392</td>\n",
       "      <td>-0.639750</td>\n",
       "      <td>0.424588</td>\n",
       "      <td>3.857522</td>\n",
       "    </tr>\n",
       "    <tr>\n",
       "      <td>333</td>\n",
       "      <td>-0.236650</td>\n",
       "      <td>3.021228</td>\n",
       "      <td>0.708133</td>\n",
       "      <td>-0.629649</td>\n",
       "    </tr>\n",
       "    <tr>\n",
       "      <td>423</td>\n",
       "      <td>1.128346</td>\n",
       "      <td>1.319460</td>\n",
       "      <td>3.078815</td>\n",
       "      <td>-0.557702</td>\n",
       "    </tr>\n",
       "    <tr>\n",
       "      <td>430</td>\n",
       "      <td>-3.508793</td>\n",
       "      <td>-0.105365</td>\n",
       "      <td>-0.047767</td>\n",
       "      <td>-0.699810</td>\n",
       "    </tr>\n",
       "    <tr>\n",
       "      <td>541</td>\n",
       "      <td>0.264568</td>\n",
       "      <td>-0.015221</td>\n",
       "      <td>-0.780893</td>\n",
       "      <td>3.448134</td>\n",
       "    </tr>\n",
       "    <tr>\n",
       "      <td>607</td>\n",
       "      <td>-0.026599</td>\n",
       "      <td>1.371577</td>\n",
       "      <td>3.049757</td>\n",
       "      <td>-1.094720</td>\n",
       "    </tr>\n",
       "    <tr>\n",
       "      <td>643</td>\n",
       "      <td>0.668342</td>\n",
       "      <td>0.475601</td>\n",
       "      <td>1.104268</td>\n",
       "      <td>3.082043</td>\n",
       "    </tr>\n",
       "    <tr>\n",
       "      <td>722</td>\n",
       "      <td>0.991174</td>\n",
       "      <td>-0.058334</td>\n",
       "      <td>3.170009</td>\n",
       "      <td>-0.060137</td>\n",
       "    </tr>\n",
       "    <tr>\n",
       "      <td>738</td>\n",
       "      <td>-2.172929</td>\n",
       "      <td>1.239443</td>\n",
       "      <td>3.024025</td>\n",
       "      <td>-0.073482</td>\n",
       "    </tr>\n",
       "    <tr>\n",
       "      <td>941</td>\n",
       "      <td>2.587836</td>\n",
       "      <td>3.489699</td>\n",
       "      <td>0.402902</td>\n",
       "      <td>0.171874</td>\n",
       "    </tr>\n",
       "  </tbody>\n",
       "</table>\n",
       "</div>"
      ],
      "text/plain": [
       "            0         1         2         3\n",
       "100  0.310629  4.095484 -0.080488 -0.848625\n",
       "163  3.038222  0.295567  0.021546 -0.161107\n",
       "174 -1.915392 -0.639750  0.424588  3.857522\n",
       "333 -0.236650  3.021228  0.708133 -0.629649\n",
       "423  1.128346  1.319460  3.078815 -0.557702\n",
       "430 -3.508793 -0.105365 -0.047767 -0.699810\n",
       "541  0.264568 -0.015221 -0.780893  3.448134\n",
       "607 -0.026599  1.371577  3.049757 -1.094720\n",
       "643  0.668342  0.475601  1.104268  3.082043\n",
       "722  0.991174 -0.058334  3.170009 -0.060137\n",
       "738 -2.172929  1.239443  3.024025 -0.073482\n",
       "941  2.587836  3.489699  0.402902  0.171874"
      ]
     },
     "execution_count": 10,
     "metadata": {},
     "output_type": "execute_result"
    }
   ],
   "source": [
    "data[(np.abs(data) > 3).any(1)]"
   ]
  },
  {
   "cell_type": "code",
   "execution_count": null,
   "metadata": {},
   "outputs": [],
   "source": []
  }
 ],
 "metadata": {
  "kernelspec": {
   "display_name": "Python 3",
   "language": "python",
   "name": "python3"
  },
  "language_info": {
   "codemirror_mode": {
    "name": "ipython",
    "version": 3
   },
   "file_extension": ".py",
   "mimetype": "text/x-python",
   "name": "python",
   "nbconvert_exporter": "python",
   "pygments_lexer": "ipython3",
   "version": "3.7.4"
  }
 },
 "nbformat": 4,
 "nbformat_minor": 2
}
