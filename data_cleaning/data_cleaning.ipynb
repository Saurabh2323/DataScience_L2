{
 "cells": [
  {
   "cell_type": "code",
   "execution_count": 1,
   "metadata": {
    "ExecuteTime": {
     "end_time": "2020-07-20T11:04:33.413323Z",
     "start_time": "2020-07-20T11:04:31.510415Z"
    }
   },
   "outputs": [],
   "source": [
    "import matplotlib.pyplot as plt\n",
    "from numpy import set_printoptions\n",
    "from pandas import read_csv\n",
    "import numpy as np\n",
    "import pandas as pd"
   ]
  },
  {
   "cell_type": "code",
   "execution_count": 2,
   "metadata": {
    "ExecuteTime": {
     "end_time": "2020-07-20T11:04:33.445302Z",
     "start_time": "2020-07-20T11:04:33.418317Z"
    }
   },
   "outputs": [],
   "source": [
    "filename = 'residence.csv'\n",
    "names = ['PID','HOUSE_NUM','CITY','OWN_OCCUP','NUM_BEDROOMS','NUM_BATHS','SW_FT']\n",
    "data = read_csv(filename,names = names)"
   ]
  },
  {
   "cell_type": "code",
   "execution_count": 3,
   "metadata": {
    "ExecuteTime": {
     "end_time": "2020-07-20T11:04:33.517261Z",
     "start_time": "2020-07-20T11:04:33.457296Z"
    }
   },
   "outputs": [
    {
     "name": "stdout",
     "output_type": "stream",
     "text": [
      "The entire data frame is\n"
     ]
    },
    {
     "data": {
      "text/html": [
       "<div>\n",
       "<style scoped>\n",
       "    .dataframe tbody tr th:only-of-type {\n",
       "        vertical-align: middle;\n",
       "    }\n",
       "\n",
       "    .dataframe tbody tr th {\n",
       "        vertical-align: top;\n",
       "    }\n",
       "\n",
       "    .dataframe thead th {\n",
       "        text-align: right;\n",
       "    }\n",
       "</style>\n",
       "<table border=\"1\" class=\"dataframe\">\n",
       "  <thead>\n",
       "    <tr style=\"text-align: right;\">\n",
       "      <th></th>\n",
       "      <th>PID</th>\n",
       "      <th>HOUSE_NUM</th>\n",
       "      <th>CITY</th>\n",
       "      <th>OWN_OCCUP</th>\n",
       "      <th>NUM_BEDROOMS</th>\n",
       "      <th>NUM_BATHS</th>\n",
       "      <th>SW_FT</th>\n",
       "    </tr>\n",
       "  </thead>\n",
       "  <tbody>\n",
       "    <tr>\n",
       "      <td>0</td>\n",
       "      <td>3425.0</td>\n",
       "      <td>104.0</td>\n",
       "      <td>Bangalore</td>\n",
       "      <td>Y</td>\n",
       "      <td>3</td>\n",
       "      <td>1.0</td>\n",
       "      <td>1000.0</td>\n",
       "    </tr>\n",
       "    <tr>\n",
       "      <td>1</td>\n",
       "      <td>6758.0</td>\n",
       "      <td>197.0</td>\n",
       "      <td>NewDelhi</td>\n",
       "      <td>N</td>\n",
       "      <td>3</td>\n",
       "      <td>1.5</td>\n",
       "      <td>NaN</td>\n",
       "    </tr>\n",
       "    <tr>\n",
       "      <td>2</td>\n",
       "      <td>2333.0</td>\n",
       "      <td>NaN</td>\n",
       "      <td>Jaipur</td>\n",
       "      <td>N</td>\n",
       "      <td>NaN</td>\n",
       "      <td>1.0</td>\n",
       "      <td>850.0</td>\n",
       "    </tr>\n",
       "    <tr>\n",
       "      <td>3</td>\n",
       "      <td>4545.0</td>\n",
       "      <td>201.0</td>\n",
       "      <td>Hassan</td>\n",
       "      <td>NaN</td>\n",
       "      <td>1</td>\n",
       "      <td>NaN</td>\n",
       "      <td>700.0</td>\n",
       "    </tr>\n",
       "    <tr>\n",
       "      <td>4</td>\n",
       "      <td>NaN</td>\n",
       "      <td>203.0</td>\n",
       "      <td>Vishakapatnam</td>\n",
       "      <td>Y</td>\n",
       "      <td>3</td>\n",
       "      <td>2.0</td>\n",
       "      <td>1600.0</td>\n",
       "    </tr>\n",
       "    <tr>\n",
       "      <td>5</td>\n",
       "      <td>7877.0</td>\n",
       "      <td>207.0</td>\n",
       "      <td>Meerut</td>\n",
       "      <td>Y</td>\n",
       "      <td>NaN</td>\n",
       "      <td>1.0</td>\n",
       "      <td>800.0</td>\n",
       "    </tr>\n",
       "    <tr>\n",
       "      <td>6</td>\n",
       "      <td>9897.0</td>\n",
       "      <td>NaN</td>\n",
       "      <td>Madurai</td>\n",
       "      <td>NaN</td>\n",
       "      <td>2</td>\n",
       "      <td>NaN</td>\n",
       "      <td>950.0</td>\n",
       "    </tr>\n",
       "    <tr>\n",
       "      <td>7</td>\n",
       "      <td>9291.0</td>\n",
       "      <td>213.0</td>\n",
       "      <td>Chandigarh</td>\n",
       "      <td>Y</td>\n",
       "      <td>1</td>\n",
       "      <td>1.0</td>\n",
       "      <td>NaN</td>\n",
       "    </tr>\n",
       "    <tr>\n",
       "      <td>8</td>\n",
       "      <td>4532.0</td>\n",
       "      <td>215.0</td>\n",
       "      <td>Calicut</td>\n",
       "      <td>Y</td>\n",
       "      <td>na</td>\n",
       "      <td>2.0</td>\n",
       "      <td>1800.0</td>\n",
       "    </tr>\n",
       "  </tbody>\n",
       "</table>\n",
       "</div>"
      ],
      "text/plain": [
       "      PID  HOUSE_NUM           CITY OWN_OCCUP NUM_BEDROOMS  NUM_BATHS   SW_FT\n",
       "0  3425.0      104.0      Bangalore         Y            3        1.0  1000.0\n",
       "1  6758.0      197.0       NewDelhi         N            3        1.5     NaN\n",
       "2  2333.0        NaN         Jaipur         N          NaN        1.0   850.0\n",
       "3  4545.0      201.0         Hassan       NaN            1        NaN   700.0\n",
       "4     NaN      203.0  Vishakapatnam         Y            3        2.0  1600.0\n",
       "5  7877.0      207.0         Meerut         Y          NaN        1.0   800.0\n",
       "6  9897.0        NaN        Madurai       NaN            2        NaN   950.0\n",
       "7  9291.0      213.0     Chandigarh         Y            1        1.0     NaN\n",
       "8  4532.0      215.0        Calicut         Y           na        2.0  1800.0"
      ]
     },
     "execution_count": 3,
     "metadata": {},
     "output_type": "execute_result"
    }
   ],
   "source": [
    "print(\"The entire data frame is\")\n",
    "data"
   ]
  },
  {
   "cell_type": "code",
   "execution_count": 4,
   "metadata": {
    "ExecuteTime": {
     "end_time": "2020-07-20T11:04:33.542246Z",
     "start_time": "2020-07-20T11:04:33.528255Z"
    }
   },
   "outputs": [
    {
     "name": "stdout",
     "output_type": "stream",
     "text": [
      "The dimenstions of the dataframe are (9, 7)\n"
     ]
    }
   ],
   "source": [
    "shape = data.shape\n",
    "print(\"The dimenstions of the dataframe are\",shape)"
   ]
  },
  {
   "cell_type": "code",
   "execution_count": 5,
   "metadata": {
    "ExecuteTime": {
     "end_time": "2020-07-20T11:04:33.614205Z",
     "start_time": "2020-07-20T11:04:33.606210Z"
    }
   },
   "outputs": [
    {
     "name": "stdout",
     "output_type": "stream",
     "text": [
      "The data types of the columns are\n",
      "PID             float64\n",
      "HOUSE_NUM       float64\n",
      "CITY             object\n",
      "OWN_OCCUP        object\n",
      "NUM_BEDROOMS     object\n",
      "NUM_BATHS       float64\n",
      "SW_FT           float64\n",
      "dtype: object\n"
     ]
    }
   ],
   "source": [
    "types = data.dtypes\n",
    "print(\"The data types of the columns are\")\n",
    "print(types)"
   ]
  },
  {
   "cell_type": "code",
   "execution_count": 7,
   "metadata": {
    "ExecuteTime": {
     "end_time": "2020-07-20T11:04:43.738299Z",
     "start_time": "2020-07-20T11:04:43.710313Z"
    }
   },
   "outputs": [
    {
     "name": "stdout",
     "output_type": "stream",
     "text": [
      "\n",
      "The top n items of the dataset are\n"
     ]
    },
    {
     "data": {
      "text/html": [
       "<div>\n",
       "<style scoped>\n",
       "    .dataframe tbody tr th:only-of-type {\n",
       "        vertical-align: middle;\n",
       "    }\n",
       "\n",
       "    .dataframe tbody tr th {\n",
       "        vertical-align: top;\n",
       "    }\n",
       "\n",
       "    .dataframe thead th {\n",
       "        text-align: right;\n",
       "    }\n",
       "</style>\n",
       "<table border=\"1\" class=\"dataframe\">\n",
       "  <thead>\n",
       "    <tr style=\"text-align: right;\">\n",
       "      <th></th>\n",
       "      <th>PID</th>\n",
       "      <th>HOUSE_NUM</th>\n",
       "      <th>CITY</th>\n",
       "      <th>OWN_OCCUP</th>\n",
       "      <th>NUM_BEDROOMS</th>\n",
       "      <th>NUM_BATHS</th>\n",
       "      <th>SW_FT</th>\n",
       "    </tr>\n",
       "  </thead>\n",
       "  <tbody>\n",
       "    <tr>\n",
       "      <td>0</td>\n",
       "      <td>3425.0</td>\n",
       "      <td>104.0</td>\n",
       "      <td>Bangalore</td>\n",
       "      <td>Y</td>\n",
       "      <td>3</td>\n",
       "      <td>1.0</td>\n",
       "      <td>1000.0</td>\n",
       "    </tr>\n",
       "    <tr>\n",
       "      <td>1</td>\n",
       "      <td>6758.0</td>\n",
       "      <td>197.0</td>\n",
       "      <td>NewDelhi</td>\n",
       "      <td>N</td>\n",
       "      <td>3</td>\n",
       "      <td>1.5</td>\n",
       "      <td>NaN</td>\n",
       "    </tr>\n",
       "    <tr>\n",
       "      <td>2</td>\n",
       "      <td>2333.0</td>\n",
       "      <td>NaN</td>\n",
       "      <td>Jaipur</td>\n",
       "      <td>N</td>\n",
       "      <td>NaN</td>\n",
       "      <td>1.0</td>\n",
       "      <td>850.0</td>\n",
       "    </tr>\n",
       "    <tr>\n",
       "      <td>3</td>\n",
       "      <td>4545.0</td>\n",
       "      <td>201.0</td>\n",
       "      <td>Hassan</td>\n",
       "      <td>NaN</td>\n",
       "      <td>1</td>\n",
       "      <td>NaN</td>\n",
       "      <td>700.0</td>\n",
       "    </tr>\n",
       "    <tr>\n",
       "      <td>4</td>\n",
       "      <td>NaN</td>\n",
       "      <td>203.0</td>\n",
       "      <td>Vishakapatnam</td>\n",
       "      <td>Y</td>\n",
       "      <td>3</td>\n",
       "      <td>2.0</td>\n",
       "      <td>1600.0</td>\n",
       "    </tr>\n",
       "  </tbody>\n",
       "</table>\n",
       "</div>"
      ],
      "text/plain": [
       "      PID  HOUSE_NUM           CITY OWN_OCCUP NUM_BEDROOMS  NUM_BATHS   SW_FT\n",
       "0  3425.0      104.0      Bangalore         Y            3        1.0  1000.0\n",
       "1  6758.0      197.0       NewDelhi         N            3        1.5     NaN\n",
       "2  2333.0        NaN         Jaipur         N          NaN        1.0   850.0\n",
       "3  4545.0      201.0         Hassan       NaN            1        NaN   700.0\n",
       "4     NaN      203.0  Vishakapatnam         Y            3        2.0  1600.0"
      ]
     },
     "execution_count": 7,
     "metadata": {},
     "output_type": "execute_result"
    }
   ],
   "source": [
    "print()\n",
    "print(\"The top n items of the dataset are\")\n",
    "data.head()"
   ]
  },
  {
   "cell_type": "code",
   "execution_count": 8,
   "metadata": {
    "ExecuteTime": {
     "end_time": "2020-07-20T11:04:44.470794Z",
     "start_time": "2020-07-20T11:04:44.443808Z"
    }
   },
   "outputs": [
    {
     "data": {
      "text/html": [
       "<div>\n",
       "<style scoped>\n",
       "    .dataframe tbody tr th:only-of-type {\n",
       "        vertical-align: middle;\n",
       "    }\n",
       "\n",
       "    .dataframe tbody tr th {\n",
       "        vertical-align: top;\n",
       "    }\n",
       "\n",
       "    .dataframe thead th {\n",
       "        text-align: right;\n",
       "    }\n",
       "</style>\n",
       "<table border=\"1\" class=\"dataframe\">\n",
       "  <thead>\n",
       "    <tr style=\"text-align: right;\">\n",
       "      <th></th>\n",
       "      <th>PID</th>\n",
       "      <th>HOUSE_NUM</th>\n",
       "      <th>CITY</th>\n",
       "      <th>OWN_OCCUP</th>\n",
       "      <th>NUM_BEDROOMS</th>\n",
       "      <th>NUM_BATHS</th>\n",
       "      <th>SW_FT</th>\n",
       "    </tr>\n",
       "  </thead>\n",
       "  <tbody>\n",
       "    <tr>\n",
       "      <td>0</td>\n",
       "      <td>True</td>\n",
       "      <td>True</td>\n",
       "      <td>True</td>\n",
       "      <td>True</td>\n",
       "      <td>True</td>\n",
       "      <td>True</td>\n",
       "      <td>True</td>\n",
       "    </tr>\n",
       "    <tr>\n",
       "      <td>1</td>\n",
       "      <td>True</td>\n",
       "      <td>True</td>\n",
       "      <td>True</td>\n",
       "      <td>True</td>\n",
       "      <td>True</td>\n",
       "      <td>True</td>\n",
       "      <td>False</td>\n",
       "    </tr>\n",
       "    <tr>\n",
       "      <td>2</td>\n",
       "      <td>True</td>\n",
       "      <td>False</td>\n",
       "      <td>True</td>\n",
       "      <td>True</td>\n",
       "      <td>False</td>\n",
       "      <td>True</td>\n",
       "      <td>True</td>\n",
       "    </tr>\n",
       "    <tr>\n",
       "      <td>3</td>\n",
       "      <td>True</td>\n",
       "      <td>True</td>\n",
       "      <td>True</td>\n",
       "      <td>False</td>\n",
       "      <td>True</td>\n",
       "      <td>False</td>\n",
       "      <td>True</td>\n",
       "    </tr>\n",
       "    <tr>\n",
       "      <td>4</td>\n",
       "      <td>False</td>\n",
       "      <td>True</td>\n",
       "      <td>True</td>\n",
       "      <td>True</td>\n",
       "      <td>True</td>\n",
       "      <td>True</td>\n",
       "      <td>True</td>\n",
       "    </tr>\n",
       "    <tr>\n",
       "      <td>5</td>\n",
       "      <td>True</td>\n",
       "      <td>True</td>\n",
       "      <td>True</td>\n",
       "      <td>True</td>\n",
       "      <td>False</td>\n",
       "      <td>True</td>\n",
       "      <td>True</td>\n",
       "    </tr>\n",
       "    <tr>\n",
       "      <td>6</td>\n",
       "      <td>True</td>\n",
       "      <td>False</td>\n",
       "      <td>True</td>\n",
       "      <td>False</td>\n",
       "      <td>True</td>\n",
       "      <td>False</td>\n",
       "      <td>True</td>\n",
       "    </tr>\n",
       "    <tr>\n",
       "      <td>7</td>\n",
       "      <td>True</td>\n",
       "      <td>True</td>\n",
       "      <td>True</td>\n",
       "      <td>True</td>\n",
       "      <td>True</td>\n",
       "      <td>True</td>\n",
       "      <td>False</td>\n",
       "    </tr>\n",
       "    <tr>\n",
       "      <td>8</td>\n",
       "      <td>True</td>\n",
       "      <td>True</td>\n",
       "      <td>True</td>\n",
       "      <td>True</td>\n",
       "      <td>True</td>\n",
       "      <td>True</td>\n",
       "      <td>True</td>\n",
       "    </tr>\n",
       "  </tbody>\n",
       "</table>\n",
       "</div>"
      ],
      "text/plain": [
       "     PID  HOUSE_NUM  CITY  OWN_OCCUP  NUM_BEDROOMS  NUM_BATHS  SW_FT\n",
       "0   True       True  True       True          True       True   True\n",
       "1   True       True  True       True          True       True  False\n",
       "2   True      False  True       True         False       True   True\n",
       "3   True       True  True      False          True      False   True\n",
       "4  False       True  True       True          True       True   True\n",
       "5   True       True  True       True         False       True   True\n",
       "6   True      False  True      False          True      False   True\n",
       "7   True       True  True       True          True       True  False\n",
       "8   True       True  True       True          True       True   True"
      ]
     },
     "execution_count": 8,
     "metadata": {},
     "output_type": "execute_result"
    }
   ],
   "source": [
    "data.notnull()"
   ]
  },
  {
   "cell_type": "code",
   "execution_count": 9,
   "metadata": {
    "ExecuteTime": {
     "end_time": "2020-07-20T11:05:35.216754Z",
     "start_time": "2020-07-20T11:05:35.190966Z"
    }
   },
   "outputs": [
    {
     "data": {
      "text/html": [
       "<div>\n",
       "<style scoped>\n",
       "    .dataframe tbody tr th:only-of-type {\n",
       "        vertical-align: middle;\n",
       "    }\n",
       "\n",
       "    .dataframe tbody tr th {\n",
       "        vertical-align: top;\n",
       "    }\n",
       "\n",
       "    .dataframe thead th {\n",
       "        text-align: right;\n",
       "    }\n",
       "</style>\n",
       "<table border=\"1\" class=\"dataframe\">\n",
       "  <thead>\n",
       "    <tr style=\"text-align: right;\">\n",
       "      <th></th>\n",
       "      <th>PID</th>\n",
       "      <th>HOUSE_NUM</th>\n",
       "      <th>CITY</th>\n",
       "      <th>OWN_OCCUP</th>\n",
       "      <th>NUM_BEDROOMS</th>\n",
       "      <th>NUM_BATHS</th>\n",
       "      <th>SW_FT</th>\n",
       "    </tr>\n",
       "  </thead>\n",
       "  <tbody>\n",
       "    <tr>\n",
       "      <td>0</td>\n",
       "      <td>3425.0</td>\n",
       "      <td>104.0</td>\n",
       "      <td>Bangalore</td>\n",
       "      <td>Y</td>\n",
       "      <td>3</td>\n",
       "      <td>1.0</td>\n",
       "      <td>1000.0</td>\n",
       "    </tr>\n",
       "    <tr>\n",
       "      <td>1</td>\n",
       "      <td>6758.0</td>\n",
       "      <td>197.0</td>\n",
       "      <td>NewDelhi</td>\n",
       "      <td>N</td>\n",
       "      <td>3</td>\n",
       "      <td>1.5</td>\n",
       "      <td>0.0</td>\n",
       "    </tr>\n",
       "    <tr>\n",
       "      <td>2</td>\n",
       "      <td>2333.0</td>\n",
       "      <td>0.0</td>\n",
       "      <td>Jaipur</td>\n",
       "      <td>N</td>\n",
       "      <td>0</td>\n",
       "      <td>1.0</td>\n",
       "      <td>850.0</td>\n",
       "    </tr>\n",
       "    <tr>\n",
       "      <td>3</td>\n",
       "      <td>4545.0</td>\n",
       "      <td>201.0</td>\n",
       "      <td>Hassan</td>\n",
       "      <td>0</td>\n",
       "      <td>1</td>\n",
       "      <td>0.0</td>\n",
       "      <td>700.0</td>\n",
       "    </tr>\n",
       "    <tr>\n",
       "      <td>4</td>\n",
       "      <td>0.0</td>\n",
       "      <td>203.0</td>\n",
       "      <td>Vishakapatnam</td>\n",
       "      <td>Y</td>\n",
       "      <td>3</td>\n",
       "      <td>2.0</td>\n",
       "      <td>1600.0</td>\n",
       "    </tr>\n",
       "    <tr>\n",
       "      <td>5</td>\n",
       "      <td>7877.0</td>\n",
       "      <td>207.0</td>\n",
       "      <td>Meerut</td>\n",
       "      <td>Y</td>\n",
       "      <td>0</td>\n",
       "      <td>1.0</td>\n",
       "      <td>800.0</td>\n",
       "    </tr>\n",
       "    <tr>\n",
       "      <td>6</td>\n",
       "      <td>9897.0</td>\n",
       "      <td>0.0</td>\n",
       "      <td>Madurai</td>\n",
       "      <td>0</td>\n",
       "      <td>2</td>\n",
       "      <td>0.0</td>\n",
       "      <td>950.0</td>\n",
       "    </tr>\n",
       "    <tr>\n",
       "      <td>7</td>\n",
       "      <td>9291.0</td>\n",
       "      <td>213.0</td>\n",
       "      <td>Chandigarh</td>\n",
       "      <td>Y</td>\n",
       "      <td>1</td>\n",
       "      <td>1.0</td>\n",
       "      <td>0.0</td>\n",
       "    </tr>\n",
       "    <tr>\n",
       "      <td>8</td>\n",
       "      <td>4532.0</td>\n",
       "      <td>215.0</td>\n",
       "      <td>Calicut</td>\n",
       "      <td>Y</td>\n",
       "      <td>na</td>\n",
       "      <td>2.0</td>\n",
       "      <td>1800.0</td>\n",
       "    </tr>\n",
       "  </tbody>\n",
       "</table>\n",
       "</div>"
      ],
      "text/plain": [
       "      PID  HOUSE_NUM           CITY OWN_OCCUP NUM_BEDROOMS  NUM_BATHS   SW_FT\n",
       "0  3425.0      104.0      Bangalore         Y            3        1.0  1000.0\n",
       "1  6758.0      197.0       NewDelhi         N            3        1.5     0.0\n",
       "2  2333.0        0.0         Jaipur         N            0        1.0   850.0\n",
       "3  4545.0      201.0         Hassan         0            1        0.0   700.0\n",
       "4     0.0      203.0  Vishakapatnam         Y            3        2.0  1600.0\n",
       "5  7877.0      207.0         Meerut         Y            0        1.0   800.0\n",
       "6  9897.0        0.0        Madurai         0            2        0.0   950.0\n",
       "7  9291.0      213.0     Chandigarh         Y            1        1.0     0.0\n",
       "8  4532.0      215.0        Calicut         Y           na        2.0  1800.0"
      ]
     },
     "execution_count": 9,
     "metadata": {},
     "output_type": "execute_result"
    }
   ],
   "source": [
    "data.fillna(0)"
   ]
  },
  {
   "cell_type": "code",
   "execution_count": null,
   "metadata": {
    "ExecuteTime": {
     "end_time": "2020-07-19T07:56:26.929976Z",
     "start_time": "2020-07-19T07:56:26.910969Z"
    }
   },
   "outputs": [],
   "source": [
    "data"
   ]
  },
  {
   "cell_type": "code",
   "execution_count": null,
   "metadata": {
    "ExecuteTime": {
     "end_time": "2020-07-19T07:56:27.419549Z",
     "start_time": "2020-07-19T07:56:27.398560Z"
    }
   },
   "outputs": [],
   "source": [
    "data.fillna(method ='pad')"
   ]
  },
  {
   "cell_type": "code",
   "execution_count": null,
   "metadata": {
    "ExecuteTime": {
     "end_time": "2020-07-19T07:56:27.888166Z",
     "start_time": "2020-07-19T07:56:27.871173Z"
    }
   },
   "outputs": [],
   "source": [
    "data"
   ]
  },
  {
   "cell_type": "code",
   "execution_count": null,
   "metadata": {
    "ExecuteTime": {
     "end_time": "2020-07-19T07:56:28.390068Z",
     "start_time": "2020-07-19T07:56:28.381092Z"
    }
   },
   "outputs": [],
   "source": [
    "data[\"HOUSE_NUM\"].fillna(\"NO NUMBER\",inplace=False)"
   ]
  },
  {
   "cell_type": "code",
   "execution_count": null,
   "metadata": {
    "ExecuteTime": {
     "end_time": "2020-07-19T07:56:28.950182Z",
     "start_time": "2020-07-19T07:56:28.932193Z"
    }
   },
   "outputs": [],
   "source": [
    "data"
   ]
  },
  {
   "cell_type": "code",
   "execution_count": null,
   "metadata": {
    "ExecuteTime": {
     "end_time": "2020-07-19T07:56:29.642972Z",
     "start_time": "2020-07-19T07:56:29.633958Z"
    }
   },
   "outputs": [],
   "source": [
    "data[\"OWN_OCCUP\"].fillna(0,inplace=False)"
   ]
  },
  {
   "cell_type": "code",
   "execution_count": null,
   "metadata": {
    "ExecuteTime": {
     "end_time": "2020-07-19T07:56:30.327558Z",
     "start_time": "2020-07-19T07:56:30.311566Z"
    }
   },
   "outputs": [],
   "source": [
    "data"
   ]
  },
  {
   "cell_type": "code",
   "execution_count": null,
   "metadata": {
    "ExecuteTime": {
     "end_time": "2020-07-19T07:56:31.144851Z",
     "start_time": "2020-07-19T07:56:31.129842Z"
    }
   },
   "outputs": [],
   "source": [
    "data[\"OWN_OCCUP\"].fillna(apply_regression(dataset),inplace=True)\n",
    "print(data)"
   ]
  },
  {
   "cell_type": "code",
   "execution_count": null,
   "metadata": {
    "ExecuteTime": {
     "end_time": "2020-07-19T07:56:32.218821Z",
     "start_time": "2020-07-19T07:56:32.198831Z"
    }
   },
   "outputs": [],
   "source": [
    "data.dropna()"
   ]
  },
  {
   "cell_type": "code",
   "execution_count": null,
   "metadata": {
    "ExecuteTime": {
     "end_time": "2020-07-19T07:56:33.168731Z",
     "start_time": "2020-07-19T07:56:33.147740Z"
    }
   },
   "outputs": [],
   "source": [
    "data"
   ]
  },
  {
   "cell_type": "code",
   "execution_count": null,
   "metadata": {
    "ExecuteTime": {
     "end_time": "2020-07-19T07:56:34.436641Z",
     "start_time": "2020-07-19T07:56:34.414654Z"
    }
   },
   "outputs": [],
   "source": [
    "data.dropna(how='all')"
   ]
  },
  {
   "cell_type": "code",
   "execution_count": null,
   "metadata": {
    "ExecuteTime": {
     "end_time": "2020-07-19T07:56:35.632529Z",
     "start_time": "2020-07-19T07:56:35.621536Z"
    }
   },
   "outputs": [],
   "source": [
    "data.dropna(axis=1)"
   ]
  },
  {
   "cell_type": "code",
   "execution_count": null,
   "metadata": {
    "ExecuteTime": {
     "end_time": "2020-07-19T08:02:41.183114Z",
     "start_time": "2020-07-19T08:02:41.160128Z"
    }
   },
   "outputs": [],
   "source": [
    "data.dropna(thresh=5)"
   ]
  },
  {
   "cell_type": "code",
   "execution_count": null,
   "metadata": {
    "ExecuteTime": {
     "end_time": "2020-07-19T09:30:15.375610Z",
     "start_time": "2020-07-19T09:30:15.364620Z"
    }
   },
   "outputs": [],
   "source": [
    "s = pd.Series([0, 1, 2, 3, 4])\n",
    "s.replace(0, 5)"
   ]
  },
  {
   "cell_type": "code",
   "execution_count": null,
   "metadata": {
    "ExecuteTime": {
     "end_time": "2020-07-19T09:30:55.084835Z",
     "start_time": "2020-07-19T09:30:55.067864Z"
    }
   },
   "outputs": [],
   "source": [
    "df = pd.DataFrame({'A': [0, 1, 2, 3, 4],\n",
    "                   'B': [5, 6, 7, 8, 9],\n",
    "                   'C': ['a', 'b', 'c', 'd', 'e']})\n",
    "df"
   ]
  },
  {
   "cell_type": "code",
   "execution_count": null,
   "metadata": {
    "ExecuteTime": {
     "end_time": "2020-07-19T09:30:59.271439Z",
     "start_time": "2020-07-19T09:30:59.258447Z"
    }
   },
   "outputs": [],
   "source": [
    "df.replace(0, 5)"
   ]
  },
  {
   "cell_type": "code",
   "execution_count": null,
   "metadata": {
    "ExecuteTime": {
     "end_time": "2020-07-19T09:31:16.917567Z",
     "start_time": "2020-07-19T09:31:16.902576Z"
    }
   },
   "outputs": [],
   "source": [
    "df.replace([0, 1, 2, 3], 4)"
   ]
  },
  {
   "cell_type": "code",
   "execution_count": null,
   "metadata": {
    "ExecuteTime": {
     "end_time": "2020-07-19T09:31:33.635983Z",
     "start_time": "2020-07-19T09:31:33.622974Z"
    }
   },
   "outputs": [],
   "source": [
    "df.replace([0, 1, 2, 3], [4, 3, 2, 1])"
   ]
  },
  {
   "cell_type": "code",
   "execution_count": null,
   "metadata": {
    "ExecuteTime": {
     "end_time": "2020-07-19T09:31:50.309925Z",
     "start_time": "2020-07-19T09:31:50.299927Z"
    }
   },
   "outputs": [],
   "source": [
    "s.replace([1, 2], method='bfill')"
   ]
  },
  {
   "cell_type": "code",
   "execution_count": null,
   "metadata": {
    "ExecuteTime": {
     "end_time": "2020-07-19T09:36:08.816128Z",
     "start_time": "2020-07-19T09:36:08.806153Z"
    }
   },
   "outputs": [],
   "source": [
    "df"
   ]
  },
  {
   "cell_type": "code",
   "execution_count": null,
   "metadata": {
    "ExecuteTime": {
     "end_time": "2020-07-19T09:36:12.060612Z",
     "start_time": "2020-07-19T09:36:12.045621Z"
    }
   },
   "outputs": [],
   "source": [
    "df.replace([1, 2], method='bfill')"
   ]
  },
  {
   "cell_type": "code",
   "execution_count": null,
   "metadata": {
    "ExecuteTime": {
     "end_time": "2020-07-19T09:36:03.529816Z",
     "start_time": "2020-07-19T09:36:03.514804Z"
    }
   },
   "outputs": [],
   "source": [
    "df.replace({0: 10, 1: 100})"
   ]
  },
  {
   "cell_type": "code",
   "execution_count": null,
   "metadata": {
    "ExecuteTime": {
     "end_time": "2020-07-19T09:40:48.284235Z",
     "start_time": "2020-07-19T09:40:48.272241Z"
    }
   },
   "outputs": [],
   "source": [
    "df.replace({'A': 0, 'B': 5})"
   ]
  },
  {
   "cell_type": "code",
   "execution_count": null,
   "metadata": {
    "ExecuteTime": {
     "end_time": "2020-07-19T09:40:49.197561Z",
     "start_time": "2020-07-19T09:40:49.184565Z"
    }
   },
   "outputs": [],
   "source": [
    "df.replace({'A': {0: 100, 4: 400}})"
   ]
  },
  {
   "cell_type": "code",
   "execution_count": null,
   "metadata": {
    "ExecuteTime": {
     "end_time": "2020-07-19T09:40:50.198176Z",
     "start_time": "2020-07-19T09:40:50.188183Z"
    }
   },
   "outputs": [],
   "source": [
    "df"
   ]
  },
  {
   "cell_type": "code",
   "execution_count": null,
   "metadata": {
    "ExecuteTime": {
     "end_time": "2020-07-19T10:25:30.109406Z",
     "start_time": "2020-07-19T10:25:30.094415Z"
    }
   },
   "outputs": [],
   "source": [
    "df.replace({'B': {5: 100, 8: 400}})"
   ]
  },
  {
   "cell_type": "code",
   "execution_count": null,
   "metadata": {
    "ExecuteTime": {
     "end_time": "2020-07-19T10:26:33.630138Z",
     "start_time": "2020-07-19T10:26:33.618144Z"
    }
   },
   "outputs": [],
   "source": [
    "df = pd.DataFrame({'A': ['bat', 'foo', 'bait'],\n",
    "                   'B': ['abc', 'bar', 'xyz']})\n",
    "df"
   ]
  },
  {
   "cell_type": "code",
   "execution_count": null,
   "metadata": {
    "ExecuteTime": {
     "end_time": "2020-07-19T10:31:34.257075Z",
     "start_time": "2020-07-19T10:31:34.246083Z"
    }
   },
   "outputs": [],
   "source": [
    "df.replace(to_replace=r'^ba.$', value='new', regex=False)"
   ]
  },
  {
   "cell_type": "code",
   "execution_count": null,
   "metadata": {
    "ExecuteTime": {
     "end_time": "2020-07-19T10:31:37.002334Z",
     "start_time": "2020-07-19T10:31:36.991340Z"
    }
   },
   "outputs": [],
   "source": [
    "df"
   ]
  },
  {
   "cell_type": "code",
   "execution_count": null,
   "metadata": {
    "ExecuteTime": {
     "end_time": "2020-07-19T10:31:40.307573Z",
     "start_time": "2020-07-19T10:31:40.290580Z"
    }
   },
   "outputs": [],
   "source": [
    "df.replace({'A': r'^ba.$'}, {'A': 'new'}, regex=True)"
   ]
  },
  {
   "cell_type": "code",
   "execution_count": null,
   "metadata": {
    "ExecuteTime": {
     "end_time": "2020-07-19T10:31:43.177851Z",
     "start_time": "2020-07-19T10:31:43.167878Z"
    }
   },
   "outputs": [],
   "source": [
    "df"
   ]
  },
  {
   "cell_type": "code",
   "execution_count": null,
   "metadata": {
    "ExecuteTime": {
     "end_time": "2020-07-19T10:32:20.885778Z",
     "start_time": "2020-07-19T10:32:20.870790Z"
    }
   },
   "outputs": [],
   "source": [
    "df.replace(regex={r'^ba.$': 'new', 'foo': 'xyz'})"
   ]
  },
  {
   "cell_type": "code",
   "execution_count": null,
   "metadata": {
    "ExecuteTime": {
     "end_time": "2020-07-19T11:59:08.987902Z",
     "start_time": "2020-07-19T11:59:08.971909Z"
    }
   },
   "outputs": [],
   "source": [
    "# importing pandas package \n",
    "import pandas as pd \n",
    "# making data frame from csv file \n",
    "data = pd.read_csv(\"employees.csv\")"
   ]
  },
  {
   "cell_type": "code",
   "execution_count": null,
   "metadata": {
    "ExecuteTime": {
     "end_time": "2020-07-19T11:59:10.037199Z",
     "start_time": "2020-07-19T11:59:10.012215Z"
    }
   },
   "outputs": [],
   "source": [
    "data"
   ]
  },
  {
   "cell_type": "code",
   "execution_count": null,
   "metadata": {
    "ExecuteTime": {
     "end_time": "2020-07-19T11:59:34.142018Z",
     "start_time": "2020-07-19T11:59:34.135021Z"
    }
   },
   "outputs": [],
   "source": [
    "# sorting by first name \n",
    "data.sort_values(\"First Name\", inplace = True) "
   ]
  },
  {
   "cell_type": "code",
   "execution_count": null,
   "metadata": {
    "ExecuteTime": {
     "end_time": "2020-07-19T11:59:46.460967Z",
     "start_time": "2020-07-19T11:59:46.426989Z"
    }
   },
   "outputs": [],
   "source": [
    "data"
   ]
  },
  {
   "cell_type": "code",
   "execution_count": null,
   "metadata": {
    "ExecuteTime": {
     "end_time": "2020-07-19T12:00:03.076491Z",
     "start_time": "2020-07-19T12:00:03.066496Z"
    }
   },
   "outputs": [],
   "source": [
    "# dropping ALL duplicte values \n",
    "data.drop_duplicates(subset =\"First Name\", \n",
    "                     keep = False, inplace = True) "
   ]
  },
  {
   "cell_type": "code",
   "execution_count": null,
   "metadata": {
    "ExecuteTime": {
     "end_time": "2020-07-19T12:00:05.244591Z",
     "start_time": "2020-07-19T12:00:05.222602Z"
    }
   },
   "outputs": [],
   "source": [
    "data"
   ]
  },
  {
   "cell_type": "code",
   "execution_count": null,
   "metadata": {},
   "outputs": [],
   "source": []
  },
  {
   "cell_type": "code",
   "execution_count": null,
   "metadata": {
    "ExecuteTime": {
     "end_time": "2020-07-19T12:10:59.913091Z",
     "start_time": "2020-07-19T12:10:59.895099Z"
    }
   },
   "outputs": [],
   "source": [
    "# making data frame from csv file \n",
    "data = pd.read_csv(\"employees.csv\") \n"
   ]
  },
  {
   "cell_type": "code",
   "execution_count": null,
   "metadata": {
    "ExecuteTime": {
     "end_time": "2020-07-19T12:11:01.451376Z",
     "start_time": "2020-07-19T12:11:01.426388Z"
    }
   },
   "outputs": [],
   "source": [
    "  \n",
    "#length before adding row \n",
    "length1 = len(data) \n",
    "  \n",
    "# manually inserting duplicate of a row of row 440 \n",
    "data.loc[1001] = [data[\"First Name\"][440], \n",
    "                  data[\"Gender\"][440], \n",
    "                  data[\"Start Date\"][440], \n",
    "                  data[\"Last Login Time\"][440], \n",
    "                  data[\"Salary\"][440], \n",
    "                  data[\"Bonus %\"][440], \n",
    "                  data[\"Senior Management\"][440], \n",
    "                  data[\"Team\"][440]] \n",
    "                    \n",
    "  \n",
    "# length after adding row \n",
    "length2=  len(data) \n"
   ]
  },
  {
   "cell_type": "code",
   "execution_count": null,
   "metadata": {
    "ExecuteTime": {
     "end_time": "2020-07-19T12:11:08.010141Z",
     "start_time": "2020-07-19T12:11:07.981158Z"
    }
   },
   "outputs": [],
   "source": [
    "# sorting by first name \n",
    "data.sort_values(\"First Name\", inplace=True) \n",
    "print(data)\n"
   ]
  },
  {
   "cell_type": "code",
   "execution_count": null,
   "metadata": {
    "ExecuteTime": {
     "end_time": "2020-07-19T12:11:13.401402Z",
     "start_time": "2020-07-19T12:11:13.357429Z"
    }
   },
   "outputs": [],
   "source": [
    "# dropping duplicate values \n",
    "data.drop_duplicates(keep=False,inplace=True) \n",
    "data"
   ]
  },
  {
   "cell_type": "code",
   "execution_count": null,
   "metadata": {
    "ExecuteTime": {
     "end_time": "2020-07-19T12:10:43.442475Z",
     "start_time": "2020-07-19T12:10:43.434478Z"
    }
   },
   "outputs": [],
   "source": [
    "# length after removing duplicates \n",
    "length3=len(data)\n",
    "# printing all data frame lengths  \n",
    "print(length1, length2, length3) "
   ]
  },
  {
   "cell_type": "code",
   "execution_count": null,
   "metadata": {
    "ExecuteTime": {
     "end_time": "2020-07-19T12:12:52.185124Z",
     "start_time": "2020-07-19T12:12:52.145125Z"
    }
   },
   "outputs": [],
   "source": [
    "data"
   ]
  },
  {
   "cell_type": "code",
   "execution_count": null,
   "metadata": {
    "ExecuteTime": {
     "end_time": "2020-07-19T12:13:02.917852Z",
     "start_time": "2020-07-19T12:13:02.908860Z"
    }
   },
   "outputs": [],
   "source": [
    "len(data)"
   ]
  },
  {
   "cell_type": "code",
   "execution_count": null,
   "metadata": {},
   "outputs": [],
   "source": []
  }
 ],
 "metadata": {
  "kernelspec": {
   "display_name": "Python 3",
   "language": "python",
   "name": "python3"
  },
  "language_info": {
   "codemirror_mode": {
    "name": "ipython",
    "version": 3
   },
   "file_extension": ".py",
   "mimetype": "text/x-python",
   "name": "python",
   "nbconvert_exporter": "python",
   "pygments_lexer": "ipython3",
   "version": "3.7.4"
  }
 },
 "nbformat": 4,
 "nbformat_minor": 2
}
